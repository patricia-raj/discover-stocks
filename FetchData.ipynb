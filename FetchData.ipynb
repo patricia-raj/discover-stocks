{
 "cells": [
  {
   "cell_type": "code",
   "execution_count": 1,
   "id": "4f5a7d8d",
   "metadata": {},
   "outputs": [
    {
     "name": "stderr",
     "output_type": "stream",
     "text": [
      "\n",
      "Bad key \"text.kerning_factor\" on line 4 in\n",
      "/Users/bkamalnivas/opt/anaconda3/envs/pyvizenv/lib/python3.7/site-packages/matplotlib/mpl-data/stylelib/_classic_test_patch.mplstyle.\n",
      "You probably need to get an updated matplotlibrc file from\n",
      "http://github.com/matplotlib/matplotlib/blob/master/matplotlibrc.template\n",
      "or from the matplotlib source distribution\n"
     ]
    }
   ],
   "source": [
    "import pandas as pd\n",
    "import matplotlib.pyplot as plt\n",
    "import os\n",
    "import yfinance as yf\n",
    "from pathlib import Path"
   ]
  },
  {
   "cell_type": "code",
   "execution_count": 2,
   "id": "8c6440e5",
   "metadata": {},
   "outputs": [],
   "source": [
    "def get_us_stock_list():\n",
    "    marketcap_csv_path = Path(\"Resources/marketcap.csv\")\n",
    "    marketcap_df = pd.read_csv(marketcap_csv_path)\n",
    "    marketcap_df = marketcap_df.loc[marketcap_df[\"Country\"] == 'United States']\n",
    "    us_stock_list = marketcap_df[\"Ticker\"].unique()\n",
    "    return us_stock_list\n",
    "\n",
    "def fetch_and_store_data():\n",
    "    #\n",
    "    # Read the webscraped CSV & find the uniq list of companies in US\n",
    "    #\n",
    "    stocklist = get_us_stock_list()  \n",
    "    \n",
    "    #\n",
    "    # Use Yahoo finance library to get the historical data (2006 - 2021)\n",
    "    #\n",
    "    data_df = pd.DataFrame(); \n",
    "    for stock in stocklist:\n",
    "        data = yf.download(stock, start=\"2006-01-01\", end=\"2021-12-31\")\n",
    "        data_df[stock] = data['Close']\n",
    "        data_df = data_df.fillna(method='backfill')\n",
    "        #data_df = data_df.fillna(0)\n",
    "    \n",
    "    #\n",
    "    # Save it to a csv\n",
    "    #\n",
    "    stock_data_path = Path(\"Resources/stock_data.csv\")\n",
    "    data_df.to_csv(stock_data_path)\n",
    "    return data_df\n",
    "\n",
    "#tmp = fetch_and_store_data()\n",
    "#tmp.head()\n"
   ]
  }
 ],
 "metadata": {
  "kernelspec": {
   "display_name": "Python [conda env:pyvizenv] *",
   "language": "python",
   "name": "conda-env-pyvizenv-py"
  },
  "language_info": {
   "codemirror_mode": {
    "name": "ipython",
    "version": 3
   },
   "file_extension": ".py",
   "mimetype": "text/x-python",
   "name": "python",
   "nbconvert_exporter": "python",
   "pygments_lexer": "ipython3",
   "version": "3.7.11"
  }
 },
 "nbformat": 4,
 "nbformat_minor": 5
}
