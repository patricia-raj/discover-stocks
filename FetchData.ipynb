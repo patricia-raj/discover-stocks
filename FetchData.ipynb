{
 "cells": [
  {
   "cell_type": "code",
   "execution_count": 1,
   "id": "f8e8c7d1",
   "metadata": {},
   "outputs": [
    {
     "name": "stderr",
     "output_type": "stream",
     "text": [
      "\n",
      "Bad key \"text.kerning_factor\" on line 4 in\n",
      "/Users/bkamalnivas/opt/anaconda3/envs/pyvizenv/lib/python3.7/site-packages/matplotlib/mpl-data/stylelib/_classic_test_patch.mplstyle.\n",
      "You probably need to get an updated matplotlibrc file from\n",
      "http://github.com/matplotlib/matplotlib/blob/master/matplotlibrc.template\n",
      "or from the matplotlib source distribution\n"
     ]
    }
   ],
   "source": [
    "import pandas as pd\n",
    "import matplotlib.pyplot as plt\n",
    "import os\n",
    "import yfinance as yf\n",
    "from pathlib import Path"
   ]
  },
  {
   "cell_type": "code",
   "execution_count": 6,
   "id": "8c24915a",
   "metadata": {},
   "outputs": [
    {
     "name": "stdout",
     "output_type": "stream",
     "text": [
      "[*********************100%***********************]  1 of 1 completed\n",
      "[*********************100%***********************]  1 of 1 completed\n",
      "[*********************100%***********************]  1 of 1 completed\n",
      "[*********************100%***********************]  1 of 1 completed\n",
      "[*********************100%***********************]  1 of 1 completed\n",
      "[*********************100%***********************]  1 of 1 completed\n",
      "[*********************100%***********************]  1 of 1 completed\n",
      "[*********************100%***********************]  1 of 1 completed\n",
      "[*********************100%***********************]  1 of 1 completed\n",
      "[*********************100%***********************]  1 of 1 completed\n",
      "[*********************100%***********************]  1 of 1 completed\n",
      "[*********************100%***********************]  1 of 1 completed\n",
      "[*********************100%***********************]  1 of 1 completed\n",
      "[*********************100%***********************]  1 of 1 completed\n",
      "[*********************100%***********************]  1 of 1 completed\n",
      "[*********************100%***********************]  1 of 1 completed\n",
      "[*********************100%***********************]  1 of 1 completed\n",
      "[*********************100%***********************]  1 of 1 completed\n",
      "[*********************100%***********************]  1 of 1 completed\n",
      "[*********************100%***********************]  1 of 1 completed\n",
      "                AAPL       MSFT        GOOG       AMZN  TSLA    BRK-A  \\\n",
      "Date                                                                    \n",
      "2006-01-03  2.669643  26.840000  216.802368  47.580002   NaN  89300.0   \n",
      "2006-01-04  2.677500  26.969999  221.788681  47.250000   NaN  89690.0   \n",
      "2006-01-05  2.656429  26.990000  224.777481  47.650002   NaN  89800.0   \n",
      "2006-01-06  2.725000  26.910000  231.960556  47.869999   NaN  89500.0   \n",
      "2006-01-09  2.716071  26.860001  232.578247  47.080002   NaN  89900.0   \n",
      "\n",
      "                NVDA  FB   V        JPM        JNJ        XOM          GE  \\\n",
      "Date                                                                        \n",
      "2006-01-03  3.185000 NaN NaN  40.189999  61.630001  58.470001  272.076935   \n",
      "2006-01-04  3.274167 NaN NaN  39.619999  62.580002  58.570000  271.692322   \n",
      "2006-01-05  3.348333 NaN NaN  39.740002  62.320000  58.279999  271.000000   \n",
      "2006-01-06  3.403333 NaN NaN  40.020000  62.599998  59.430000  272.846161   \n",
      "2006-01-09  3.498333 NaN NaN  40.669998  62.990002  59.400002  272.153839   \n",
      "\n",
      "                  WFC        WMT        CVX        IBM         PG          T  \\\n",
      "Date                                                                           \n",
      "2006-01-03  31.900000  46.230000  59.080002  78.451241  58.779999  24.709999   \n",
      "2006-01-04  31.530001  46.320000  58.910000  78.346077  58.889999  24.889999   \n",
      "2006-01-05  31.495001  45.689999  58.189999  78.871895  58.700001  24.950001   \n",
      "2006-01-06  31.680000  45.880001  59.250000  81.214149  58.639999  24.930000   \n",
      "2006-01-09  31.674999  45.709999  58.950001  80.047798  59.080002  25.020000   \n",
      "\n",
      "                  BAC  \n",
      "Date                   \n",
      "2006-01-03  47.080002  \n",
      "2006-01-04  46.580002  \n",
      "2006-01-05  46.639999  \n",
      "2006-01-06  46.570000  \n",
      "2006-01-09  46.599998  \n"
     ]
    }
   ],
   "source": [
    "def fetch_and_store_data():\n",
    "    #\n",
    "    # Read the webscraped CSV & find the uniq list of companies in US\n",
    "    #\n",
    "    marketcap_csv_path = Path(\"Resources/marketcap.csv\")\n",
    "    stock_data_path = Path(\"Resources/stock_data.csv\")\n",
    "    marketcap_df = pd.read_csv(marketcap_csv_path)\n",
    "    marketcap_df = marketcap_df.loc[marketcap_df[\"Country\"] == 'United States']\n",
    "    stocklist = marketcap_df[\"Ticker\"].unique()  \n",
    "    \n",
    "    #\n",
    "    # Use Yahoo finance library to get the historical data (2006 - 2021)\n",
    "    #\n",
    "    data_df = pd.DataFrame(); \n",
    "    for stock in stocklist:\n",
    "        data = yf.download(stock, start=\"2006-01-01\", end=\"2021-12-31\")\n",
    "        data_df[stock] = data['Close']\n",
    "        data_df.fillna(0)\n",
    "    \n",
    "    print(data_df.head())\n",
    "    data_df.to_csv(stock_data_path)\n",
    "\n",
    "fetch_and_store_data()\n"
   ]
  },
  {
   "cell_type": "code",
   "execution_count": null,
   "id": "e913f0c9",
   "metadata": {},
   "outputs": [],
   "source": []
  }
 ],
 "metadata": {
  "kernelspec": {
   "display_name": "Python [conda env:pyvizenv] *",
   "language": "python",
   "name": "conda-env-pyvizenv-py"
  },
  "language_info": {
   "codemirror_mode": {
    "name": "ipython",
    "version": 3
   },
   "file_extension": ".py",
   "mimetype": "text/x-python",
   "name": "python",
   "nbconvert_exporter": "python",
   "pygments_lexer": "ipython3",
   "version": "3.7.11"
  }
 },
 "nbformat": 4,
 "nbformat_minor": 5
}
